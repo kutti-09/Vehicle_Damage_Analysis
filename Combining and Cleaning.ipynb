{
 "cells": [
  {
   "cell_type": "code",
   "execution_count": 1,
   "id": "5cdde8e5-b04f-49e0-8fd0-cf16ee93ff60",
   "metadata": {},
   "outputs": [],
   "source": [
    "import pandas as pd\n",
    "import os\n"
   ]
  },
  {
   "cell_type": "code",
   "execution_count": 3,
   "id": "5f8e31df-a5f5-4a27-97ff-0ef84b77cd66",
   "metadata": {},
   "outputs": [],
   "source": [
    "folder_path = 'C:/Users/chint/Downloads/Vehicle_Damage_Dataset'  \n"
   ]
  },
  {
   "cell_type": "code",
   "execution_count": 4,
   "id": "ad8278b2-ff0a-4c45-a294-5af1274341cc",
   "metadata": {},
   "outputs": [
    {
     "name": "stderr",
     "output_type": "stream",
     "text": [
      "C:\\Users\\chint\\AppData\\Local\\Temp\\ipykernel_14028\\3418816823.py:6: DtypeWarning: Columns (12,13,14,15,16) have mixed types. Specify dtype option on import or set low_memory=False.\n",
      "  df = pd.read_csv(file_path)\n"
     ]
    }
   ],
   "source": [
    "all_data = pd.DataFrame()\n",
    "\n",
    "for file in os.listdir(folder_path):\n",
    "    if file.endswith('.csv'):\n",
    "        file_path = os.path.join(folder_path, file)\n",
    "        df = pd.read_csv(file_path)\n",
    "        all_data = pd.concat([all_data, df], ignore_index=True)\n"
   ]
  },
  {
   "cell_type": "code",
   "execution_count": 5,
   "id": "41e1fe8f-c06f-4836-a8e7-11e8c0603476",
   "metadata": {},
   "outputs": [
    {
     "name": "stdout",
     "output_type": "stream",
     "text": [
      "Before removing duplicates: (1603308, 17)\n"
     ]
    },
    {
     "data": {
      "text/html": [
       "<div>\n",
       "<style scoped>\n",
       "    .dataframe tbody tr th:only-of-type {\n",
       "        vertical-align: middle;\n",
       "    }\n",
       "\n",
       "    .dataframe tbody tr th {\n",
       "        vertical-align: top;\n",
       "    }\n",
       "\n",
       "    .dataframe thead th {\n",
       "        text-align: right;\n",
       "    }\n",
       "</style>\n",
       "<table border=\"1\" class=\"dataframe\">\n",
       "  <thead>\n",
       "    <tr style=\"text-align: right;\">\n",
       "      <th></th>\n",
       "      <th>DateUtc</th>\n",
       "      <th>VIN</th>\n",
       "      <th>Make</th>\n",
       "      <th>Model</th>\n",
       "      <th>Location</th>\n",
       "      <th>ReportedBy</th>\n",
       "      <th>Company</th>\n",
       "      <th>EmailAddress</th>\n",
       "      <th>Inspection Organisation</th>\n",
       "      <th>Inspection Type</th>\n",
       "      <th>Inspection Organisation External ID</th>\n",
       "      <th>DefectsFound</th>\n",
       "      <th>AIAG</th>\n",
       "      <th>Position</th>\n",
       "      <th>Damage</th>\n",
       "      <th>Severity</th>\n",
       "      <th>Notes</th>\n",
       "    </tr>\n",
       "  </thead>\n",
       "  <tbody>\n",
       "    <tr>\n",
       "      <th>0</th>\n",
       "      <td>2021-07-02 12:51:31</td>\n",
       "      <td>WF02XXERK2MM86910</td>\n",
       "      <td>Ford</td>\n",
       "      <td>Puma</td>\n",
       "      <td>NaN</td>\n",
       "      <td>Niluefer Bahcuvan</td>\n",
       "      <td>NaN</td>\n",
       "      <td>nbahcuva@ford.com</td>\n",
       "      <td>NaN</td>\n",
       "      <td>NaN</td>\n",
       "      <td>NaN</td>\n",
       "      <td>Yes</td>\n",
       "      <td>92-06-5</td>\n",
       "      <td>License Bracket</td>\n",
       "      <td>Cracked - Does not apply to glass</td>\n",
       "      <td>&gt;12\" / &gt; 30cm.</td>\n",
       "      <td>NaN</td>\n",
       "    </tr>\n",
       "    <tr>\n",
       "      <th>1</th>\n",
       "      <td>2021-07-02 12:10:38</td>\n",
       "      <td>3FMTK3R71MMA09121</td>\n",
       "      <td>Ford</td>\n",
       "      <td>Mach-E</td>\n",
       "      <td>NaN</td>\n",
       "      <td>Kaitlyn Dubay</td>\n",
       "      <td>NaN</td>\n",
       "      <td>kdubay@ford.com</td>\n",
       "      <td>NaN</td>\n",
       "      <td>NaN</td>\n",
       "      <td>NaN</td>\n",
       "      <td>Yes</td>\n",
       "      <td>28-08-6</td>\n",
       "      <td>Keys</td>\n",
       "      <td>Missing</td>\n",
       "      <td>Missing/Major Damage</td>\n",
       "      <td>Missing</td>\n",
       "    </tr>\n",
       "    <tr>\n",
       "      <th>2</th>\n",
       "      <td>2021-07-02 12:10:38</td>\n",
       "      <td>3FMTK3R71MMA09121</td>\n",
       "      <td>Ford</td>\n",
       "      <td>Mach-E</td>\n",
       "      <td>NaN</td>\n",
       "      <td>Kaitlyn Dubay</td>\n",
       "      <td>NaN</td>\n",
       "      <td>kdubay@ford.com</td>\n",
       "      <td>NaN</td>\n",
       "      <td>NaN</td>\n",
       "      <td>NaN</td>\n",
       "      <td>Yes</td>\n",
       "      <td>22-12-2</td>\n",
       "      <td>Grille</td>\n",
       "      <td>Scratched - Does not apply to glass</td>\n",
       "      <td>From 1\" - 3\" / 2.5cm - 7.5cm.</td>\n",
       "      <td>NaN</td>\n",
       "    </tr>\n",
       "    <tr>\n",
       "      <th>3</th>\n",
       "      <td>2021-07-01 11:48:19</td>\n",
       "      <td>5LMCJ1D92LUL01934</td>\n",
       "      <td>Lincoln</td>\n",
       "      <td>Corsair</td>\n",
       "      <td>NaN</td>\n",
       "      <td>Ford</td>\n",
       "      <td>NaN</td>\n",
       "      <td>d.start+ford@degould.com</td>\n",
       "      <td>NaN</td>\n",
       "      <td>NaN</td>\n",
       "      <td>NaN</td>\n",
       "      <td>No</td>\n",
       "      <td>NaN</td>\n",
       "      <td>NaN</td>\n",
       "      <td>NaN</td>\n",
       "      <td>NaN</td>\n",
       "      <td>NaN</td>\n",
       "    </tr>\n",
       "    <tr>\n",
       "      <th>4</th>\n",
       "      <td>2021-07-01 11:43:46</td>\n",
       "      <td>5LMCJ1D92LUL01934</td>\n",
       "      <td>Lincoln</td>\n",
       "      <td>Corsair</td>\n",
       "      <td>NaN</td>\n",
       "      <td>Ford</td>\n",
       "      <td>NaN</td>\n",
       "      <td>d.start+ford@degould.com</td>\n",
       "      <td>NaN</td>\n",
       "      <td>NaN</td>\n",
       "      <td>NaN</td>\n",
       "      <td>No</td>\n",
       "      <td>NaN</td>\n",
       "      <td>NaN</td>\n",
       "      <td>NaN</td>\n",
       "      <td>NaN</td>\n",
       "      <td>NaN</td>\n",
       "    </tr>\n",
       "  </tbody>\n",
       "</table>\n",
       "</div>"
      ],
      "text/plain": [
       "               DateUtc                VIN     Make    Model Location  \\\n",
       "0  2021-07-02 12:51:31  WF02XXERK2MM86910     Ford     Puma      NaN   \n",
       "1  2021-07-02 12:10:38  3FMTK3R71MMA09121     Ford   Mach-E      NaN   \n",
       "2  2021-07-02 12:10:38  3FMTK3R71MMA09121     Ford   Mach-E      NaN   \n",
       "3  2021-07-01 11:48:19  5LMCJ1D92LUL01934  Lincoln  Corsair      NaN   \n",
       "4  2021-07-01 11:43:46  5LMCJ1D92LUL01934  Lincoln  Corsair      NaN   \n",
       "\n",
       "          ReportedBy Company              EmailAddress  \\\n",
       "0  Niluefer Bahcuvan     NaN         nbahcuva@ford.com   \n",
       "1      Kaitlyn Dubay     NaN           kdubay@ford.com   \n",
       "2      Kaitlyn Dubay     NaN           kdubay@ford.com   \n",
       "3               Ford     NaN  d.start+ford@degould.com   \n",
       "4               Ford     NaN  d.start+ford@degould.com   \n",
       "\n",
       "  Inspection Organisation Inspection Type Inspection Organisation External ID  \\\n",
       "0                     NaN             NaN                                 NaN   \n",
       "1                     NaN             NaN                                 NaN   \n",
       "2                     NaN             NaN                                 NaN   \n",
       "3                     NaN             NaN                                 NaN   \n",
       "4                     NaN             NaN                                 NaN   \n",
       "\n",
       "  DefectsFound     AIAG         Position                               Damage  \\\n",
       "0          Yes  92-06-5  License Bracket    Cracked - Does not apply to glass   \n",
       "1          Yes  28-08-6             Keys                              Missing   \n",
       "2          Yes  22-12-2           Grille  Scratched - Does not apply to glass   \n",
       "3           No      NaN              NaN                                  NaN   \n",
       "4           No      NaN              NaN                                  NaN   \n",
       "\n",
       "                        Severity    Notes  \n",
       "0                 >12\" / > 30cm.      NaN  \n",
       "1           Missing/Major Damage  Missing  \n",
       "2  From 1\" - 3\" / 2.5cm - 7.5cm.      NaN  \n",
       "3                            NaN      NaN  \n",
       "4                            NaN      NaN  "
      ]
     },
     "execution_count": 5,
     "metadata": {},
     "output_type": "execute_result"
    }
   ],
   "source": [
    "print(\"Before removing duplicates:\", all_data.shape)\n",
    "all_data.head()\n"
   ]
  },
  {
   "cell_type": "code",
   "execution_count": 6,
   "id": "928d2a80-a9de-47b4-ad5f-c08ed6b6f504",
   "metadata": {},
   "outputs": [
    {
     "name": "stdout",
     "output_type": "stream",
     "text": [
      "Number of duplicate rows: 128390\n"
     ]
    }
   ],
   "source": [
    "duplicate_rows = all_data.duplicated()\n",
    "duplicate_count = duplicate_rows.sum()\n",
    "print(f\"Number of duplicate rows: {duplicate_count}\")\n"
   ]
  },
  {
   "cell_type": "code",
   "execution_count": 7,
   "id": "b073d283-f799-4a08-adf8-d7b4a62f818a",
   "metadata": {},
   "outputs": [
    {
     "name": "stdout",
     "output_type": "stream",
     "text": [
      "After removing duplicates: (1474918, 17)\n"
     ]
    }
   ],
   "source": [
    "all_data.drop_duplicates(inplace=True)\n",
    "print(\"After removing duplicates:\", all_data.shape)\n"
   ]
  },
  {
   "cell_type": "code",
   "execution_count": 8,
   "id": "88ad2ceb-26d8-4aea-ae2a-bd90d1f7cf99",
   "metadata": {},
   "outputs": [],
   "source": [
    "output_path = 'cleaned_data.csv'\n",
    "all_data.to_csv(output_path, index=False)\n"
   ]
  },
  {
   "cell_type": "code",
   "execution_count": null,
   "id": "bf9c5e60-958a-4c7b-aa0b-b46846bac038",
   "metadata": {},
   "outputs": [],
   "source": []
  }
 ],
 "metadata": {
  "kernelspec": {
   "display_name": "Python 3 (ipykernel)",
   "language": "python",
   "name": "python3"
  },
  "language_info": {
   "codemirror_mode": {
    "name": "ipython",
    "version": 3
   },
   "file_extension": ".py",
   "mimetype": "text/x-python",
   "name": "python",
   "nbconvert_exporter": "python",
   "pygments_lexer": "ipython3",
   "version": "3.11.7"
  }
 },
 "nbformat": 4,
 "nbformat_minor": 5
}
